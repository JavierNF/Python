{
 "cells": [
  {
   "cell_type": "code",
   "execution_count": 1,
   "id": "06ab9b02",
   "metadata": {},
   "outputs": [
    {
     "name": "stdout",
     "output_type": "stream",
     "text": [
      "Introduce un número: 2\n",
      "Este numero es par\n"
     ]
    }
   ],
   "source": [
    "num = input(\"Introduce un número: \")\n",
    "num = int(num)\n",
    "if num == 0:\n",
    "    print (\"Este número es par.\")\n",
    "elif num%2 == 0:\n",
    "    print (\"Este numero es par\")\n",
    "else:\n",
    "    print (\"Este numero es impar\")"
   ]
  },
  {
   "cell_type": "code",
   "execution_count": null,
   "id": "aaa36caa",
   "metadata": {},
   "outputs": [],
   "source": []
  },
  {
   "cell_type": "code",
   "execution_count": 2,
   "id": "efe5b747",
   "metadata": {},
   "outputs": [
    {
     "name": "stdout",
     "output_type": "stream",
     "text": [
      "Introduce un número: 3\n",
      "Este numero es impar\n"
     ]
    }
   ],
   "source": [
    "num = input(\"Introduce un número: \")\n",
    "num = int(num)\n",
    "if num == 0:\n",
    "    print (\"Este número es par.\")\n",
    "elif num%2 == 0:\n",
    "    print (\"Este numero es par\")\n",
    "else:\n",
    "    print (\"Este numero es impar\")"
   ]
  },
  {
   "cell_type": "code",
   "execution_count": null,
   "id": "5ddd30f5",
   "metadata": {},
   "outputs": [],
   "source": []
  }
 ],
 "metadata": {
  "kernelspec": {
   "display_name": "Python 3 (ipykernel)",
   "language": "python",
   "name": "python3"
  },
  "language_info": {
   "codemirror_mode": {
    "name": "ipython",
    "version": 3
   },
   "file_extension": ".py",
   "mimetype": "text/x-python",
   "name": "python",
   "nbconvert_exporter": "python",
   "pygments_lexer": "ipython3",
   "version": "3.9.13"
  }
 },
 "nbformat": 4,
 "nbformat_minor": 5
}
